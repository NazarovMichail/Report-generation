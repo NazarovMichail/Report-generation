{
 "cells": [
  {
   "cell_type": "markdown",
   "metadata": {},
   "source": [
    "# <a style='color:cyan'>Генерация протокола встречи</a>\n",
    "\n",
    "<img src='data/img/logo.gif' width=400>"
   ]
  },
  {
   "cell_type": "markdown",
   "metadata": {},
   "source": [
    "___\n",
    "## <a>Содержание</a>\n",
    "- [Импорт библиотек](#0)\n",
    "    - GigaChat credentials\n",
    "    - langchain\n",
    "- [Предобработка текста](#1)\n",
    "    - Импорт файла\n",
    "    - Разделение текста\n",
    "    - Векторизация текста\n",
    "    - База данных векторов\n",
    "- [Модель](#2)\n",
    "    - Инициализация модели\n",
    "    - Система вопрос-ответ\n",
    "    - Промт\n",
    "    - Экспорт в файл"
   ]
  },
  {
   "cell_type": "markdown",
   "metadata": {},
   "source": [
    "___\n",
    "## <center> <a id=0>Импорт библиотек</a>\n"
   ]
  },
  {
   "cell_type": "code",
   "execution_count": 5,
   "metadata": {},
   "outputs": [],
   "source": [
    "from config import CREDENTIALS\n",
    "from langchain.text_splitter import CharacterTextSplitter\n",
    "from langchain.embeddings.huggingface import HuggingFaceEmbeddings\n",
    "from langchain.vectorstores.faiss import FAISS\n",
    "from langchain.chat_models.gigachat import GigaChat\n",
    "from langchain.chains import RetrievalQA"
   ]
  },
  {
   "cell_type": "markdown",
   "metadata": {},
   "source": [
    "___\n",
    "## <center> <a id=1>Предобработка текста</a>"
   ]
  },
  {
   "cell_type": "markdown",
   "metadata": {},
   "source": [
    "#### $\\boxed{\\text{Импорт файла}}$"
   ]
  },
  {
   "cell_type": "code",
   "execution_count": 1,
   "metadata": {},
   "outputs": [],
   "source": [
    "with open('data/input/text.md', encoding='utf-8') as f:\n",
    "    text = f.read()"
   ]
  },
  {
   "cell_type": "markdown",
   "metadata": {},
   "source": [
    "#### $\\boxed{\\text{Разделение текста}}$"
   ]
  },
  {
   "cell_type": "code",
   "execution_count": null,
   "metadata": {},
   "outputs": [],
   "source": [
    "text_splitter = CharacterTextSplitter(\n",
    "        separator=r\"\\n\",\n",
    "        is_separator_regex=True,\n",
    "        chunk_size=500\n",
    "    )\n",
    "\n",
    "splitted_text = text_splitter.split_text(text)"
   ]
  },
  {
   "cell_type": "markdown",
   "metadata": {},
   "source": [
    "#### $\\boxed{\\text{Векторизация текста}}$\n",
    "\n",
    "`sbert_large_nlu_ru` -  SBERT-модель, для создания эмбеддингов, обученная на русскоязычных текстах. Разработана SberDevices."
   ]
  },
  {
   "cell_type": "code",
   "execution_count": null,
   "metadata": {},
   "outputs": [],
   "source": [
    "embeddings = HuggingFaceEmbeddings(model_name=\"ai-forever/sbert_large_nlu_ru\")"
   ]
  },
  {
   "cell_type": "markdown",
   "metadata": {},
   "source": [
    "#### $\\boxed{\\text{База данных векторов}}$"
   ]
  },
  {
   "cell_type": "code",
   "execution_count": null,
   "metadata": {},
   "outputs": [],
   "source": [
    "db_td = FAISS.from_texts(texts=splitted_text, embedding=embeddings)"
   ]
  },
  {
   "cell_type": "markdown",
   "metadata": {},
   "source": [
    "___\n",
    "## <center> <a id=2>Модель</a>"
   ]
  },
  {
   "cell_type": "markdown",
   "metadata": {},
   "source": [
    "#### $\\boxed{\\text{Инициализация модели}}$\n",
    "\n",
    "GigaChat - сервис на основе большой языковой модели, поддерживающий русский язык. Разработан SberDevices и Sber AI .\n"
   ]
  },
  {
   "cell_type": "code",
   "execution_count": 5,
   "metadata": {},
   "outputs": [],
   "source": [
    "llm = GigaChat(credentials=CREDENTIALS, verify_ssl_certs=False)"
   ]
  },
  {
   "cell_type": "markdown",
   "metadata": {},
   "source": [
    "#### $\\boxed{\\text{Система вопрос-ответ}}$"
   ]
  },
  {
   "cell_type": "code",
   "execution_count": 6,
   "metadata": {},
   "outputs": [],
   "source": [
    "answers = RetrievalQA.from_chain_type(llm, retriever=db_td.as_retriever())"
   ]
  },
  {
   "cell_type": "markdown",
   "metadata": {},
   "source": [
    "#### $\\boxed{\\text{Промт}}$"
   ]
  },
  {
   "cell_type": "code",
   "execution_count": 60,
   "metadata": {},
   "outputs": [
    {
     "name": "stdout",
     "output_type": "stream",
     "text": [
      "Протокол встречи\n",
      "\n",
      "Участники:\n",
      "- Спикер А\n",
      "- Спикер B\n",
      "- Спикер C\n",
      "- Спикер D\n",
      "\n",
      "Темы:\n",
      "1. Завершение встречи\n",
      "   - Затронутые вопросы: благодарность за беседу, ценность встречи\n",
      "\n",
      "2. Отсутствие давления со стороны правительства Эмиратов\n",
      "   - Затронутые вопросы: отсутствие давления, 7 лет без давления\n",
      "\n",
      "3. Необходимость занять позицию в современном мире\n",
      "   - Затронутые вопросы: важность понимания других точек зрения, опасность разделения общества\n",
      "\n",
      "4. Работа с агентством национальной безопасности\n",
      "   - Затронутые вопросы: активность агентства, опыт работы с ним, прямой контакт\n",
      "\n",
      "5. Использование каналов связи\n",
      "   - Затронутые вопросы: популярность каналов, использование их президентом, легкость использования\n",
      "\n",
      "Ключевые решения:\n",
      "- Ключевые решения не принимались.\n",
      "\n",
      "Важные даты:\n",
      "- Мероприятия не планировались.\n"
     ]
    }
   ],
   "source": [
    "chapters = 'Участники, Темы, Ключевые решения, Важниые даты'\n",
    "\n",
    "input_text =  f\"Тебе дан текст описания встречи с временными тегами. Строго на основании данного описания встречи, сформируй протокол встречи, состоящий из разделов: {chapters}. В заглавии напиши: 'Протокол встречи'.\\\n",
    "    В разделе:\\\n",
    "        Участники, выдели участников встречи, для дальнейшего анализа встречи,\\\n",
    "        Темы, выдели главные уникальные темы, под кажой темой перечисли затронутые важные вопросы\\\n",
    "        Ключевые решения, перечисли все ключевые решения, в противном случае напиши: 'Ключевые решения не принимались.',\\\n",
    "        Важниые даты, перечисли даты всех запланированных мероприятий, встреч, дедлайнов, в противном случае напиши: 'Мероприятия не планировались'.\\\n",
    "        В разделе Темы для каждой темы перечисли затронутые вопросы\\\n",
    "            \"\n",
    "        \n",
    "result = answers({\"query\": input_text})['result']\n",
    "print(result)"
   ]
  },
  {
   "cell_type": "markdown",
   "metadata": {},
   "source": [
    "#### $\\boxed{\\text{Экспорт в файл}}$"
   ]
  },
  {
   "cell_type": "code",
   "execution_count": 61,
   "metadata": {},
   "outputs": [],
   "source": [
    "with open('data/reports/report.txt', 'w', encoding='utf-8') as f:\n",
    "    f.write(result)"
   ]
  }
 ],
 "metadata": {
  "kernelspec": {
   "display_name": "Python 3",
   "language": "python",
   "name": "python3"
  },
  "language_info": {
   "codemirror_mode": {
    "name": "ipython",
    "version": 3
   },
   "file_extension": ".py",
   "mimetype": "text/x-python",
   "name": "python",
   "nbconvert_exporter": "python",
   "pygments_lexer": "ipython3",
   "version": "3.12.3"
  }
 },
 "nbformat": 4,
 "nbformat_minor": 2
}
